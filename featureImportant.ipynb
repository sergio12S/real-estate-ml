{
 "metadata": {
  "language_info": {
   "codemirror_mode": {
    "name": "ipython",
    "version": 3
   },
   "file_extension": ".py",
   "mimetype": "text/x-python",
   "name": "python",
   "nbconvert_exporter": "python",
   "pygments_lexer": "ipython3",
   "version": "3.8.5-final"
  },
  "orig_nbformat": 2,
  "kernelspec": {
   "name": "python37364bit5ca89e3def0844e98f22287cd5402170",
   "display_name": "Python 3.7.3 64-bit",
   "language": "python"
  }
 },
 "nbformat": 4,
 "nbformat_minor": 2,
 "cells": [
  {
   "cell_type": "code",
   "execution_count": 14,
   "metadata": {},
   "outputs": [],
   "source": [
    "from db import Session, Apartments\n",
    "import pandas as pd\n",
    "session = Session()"
   ]
  },
  {
   "cell_type": "code",
   "execution_count": 15,
   "metadata": {},
   "outputs": [],
   "source": [
    "df = session.query(Apartments)\\\n",
    "    .with_entities(\n",
    "        Apartments.Price,\n",
    "        Apartments.District,\n",
    "        Apartments.Rooms,\n",
    "        Apartments.Floors,\n",
    "        Apartments.Area,\n",
    "        Apartments.Type,\n",
    "        Apartments.Cond,\n",
    "        Apartments.Walls,\n",
    "        Apartments.Desc,\n",
    "        Apartments.Name\n",
    "        )\\\n",
    "    .order_by(Apartments.Price.desc())\\\n",
    "    .all()\n",
    "df = pd.DataFrame(df)\n"
   ]
  },
  {
   "cell_type": "code",
   "execution_count": null,
   "metadata": {},
   "outputs": [],
   "source": []
  }
 ]
}